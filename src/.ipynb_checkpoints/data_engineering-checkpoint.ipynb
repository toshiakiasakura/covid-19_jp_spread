{
 "cells": [
  {
   "cell_type": "code",
   "execution_count": 1,
   "metadata": {},
   "outputs": [],
   "source": [
    "%load_ext autoreload \n",
    "%autoreload 2\n",
    "\n",
    "import pandas as pd\n",
    "import numpy as np\n",
    "import matplotlib.pyplot as plt\n",
    "%matplotlib inline\n",
    "import seaborn as sns\n",
    "sns.set(context=\"paper\" , style =\"whitegrid\",rc={\"figure.facecolor\":\"white\"})\n",
    "\n",
    "# custom modules\n",
    "import pathList as pL"
   ]
  },
  {
   "cell_type": "markdown",
   "metadata": {},
   "source": [
    "# ANA travelers"
   ]
  },
  {
   "cell_type": "code",
   "execution_count": null,
   "metadata": {},
   "outputs": [],
   "source": [
    "df = pd.read_excel(pL.anaTravel,sheet_name=\"Sheet1\")\n",
    "df = df.dropna(axis=0)\n",
    "index = df.index\n",
    "fr = []\n",
    "to = []\n",
    "for ind in index:\n",
    "    s = ind.split(\"-\")\n",
    "    fr.append(s[0].rstrip())\n",
    "    to.append(s[1].rstrip().strip())\n",
    "df[\"from\"] = fr\n",
    "df[\"to\"] = to"
   ]
  },
  {
   "cell_type": "code",
   "execution_count": 116,
   "metadata": {},
   "outputs": [
    {
     "name": "stdout",
     "output_type": "stream",
     "text": [
      "中標津\n",
      "中部\n",
      "仙台\n",
      "佐賀\n",
      "八丈島\n",
      "函館\n",
      "大分\n",
      "大阪\n",
      "大館能代\n",
      "女満別\n",
      "宮古\n",
      "宮崎\n",
      "富山\n",
      "対馬\n",
      "小松\n",
      "山口宇部\n",
      "岡山\n",
      "岩国\n",
      "広島\n",
      "庄内\n",
      "徳島\n",
      "成田\n",
      "新潟\n",
      "旭川\n",
      "札幌\n",
      "東京\n",
      "松山\n",
      "熊本\n",
      "石垣\n",
      "石見\n",
      "神戸\n",
      "福岡\n",
      "福島\n",
      "福江\n",
      "秋田\n",
      "稚内\n",
      "米子\n",
      "紋別\n",
      "能登\n",
      "那覇\n",
      "釧路\n",
      "長崎\n",
      "関空\n",
      "青森\n",
      "静岡\n",
      "高松\n",
      "高知\n",
      "鳥取\n",
      "鹿児島\n"
     ]
    }
   ],
   "source": [
    "# unique list of airport \n",
    "print(\"\\n\".join(np.unique(list(df[\"from\"].values) + list(df[\"to\"].values))))"
   ]
  },
  {
   "cell_type": "code",
   "execution_count": 135,
   "metadata": {},
   "outputs": [],
   "source": [
    "dfM =  pd.read_excel(pL.anaTravel,sheet_name=\"replace\")\n",
    "repDic = {}\n",
    "for i,j in dfM.values:\n",
    "    repDic[i] = j"
   ]
  },
  {
   "cell_type": "code",
   "execution_count": 136,
   "metadata": {},
   "outputs": [],
   "source": [
    "df[\"from\"] = df[\"from\"].replace(repDic)\n",
    "df[\"to\"] = df[\"to\"].replace(repDic)\n",
    "df.to_excel(pL.anaEdit)"
   ]
  },
  {
   "cell_type": "code",
   "execution_count": 137,
   "metadata": {},
   "outputs": [
    {
     "name": "stdout",
     "output_type": "stream",
     "text": [
      "finish!\n"
     ]
    }
   ],
   "source": [
    "\"check the replacement macthes japnmap coding   \"\n",
    "import japanmap as jm\n",
    "for r in repDic.values():\n",
    "    if jm.pref_code(r) == 0:\n",
    "        print(r)\n",
    "print(\"finish!\")"
   ]
  },
  {
   "cell_type": "code",
   "execution_count": 203,
   "metadata": {},
   "outputs": [],
   "source": [
    "names = jm.pref_names\n",
    "m = pd.DataFrame(index = names,columns = names).replace({np.nan:0}).astype(float)"
   ]
  },
  {
   "cell_type": "code",
   "execution_count": 204,
   "metadata": {},
   "outputs": [
    {
     "data": {
      "text/html": [
       "<div>\n",
       "<style scoped>\n",
       "    .dataframe tbody tr th:only-of-type {\n",
       "        vertical-align: middle;\n",
       "    }\n",
       "\n",
       "    .dataframe tbody tr th {\n",
       "        vertical-align: top;\n",
       "    }\n",
       "\n",
       "    .dataframe thead th {\n",
       "        text-align: right;\n",
       "    }\n",
       "</style>\n",
       "<table border=\"1\" class=\"dataframe\">\n",
       "  <thead>\n",
       "    <tr style=\"text-align: right;\">\n",
       "      <th></th>\n",
       "      <th>_</th>\n",
       "      <th>北海道</th>\n",
       "      <th>青森県</th>\n",
       "      <th>岩手県</th>\n",
       "      <th>宮城県</th>\n",
       "      <th>秋田県</th>\n",
       "      <th>山形県</th>\n",
       "      <th>福島県</th>\n",
       "      <th>茨城県</th>\n",
       "      <th>栃木県</th>\n",
       "      <th>...</th>\n",
       "      <th>愛媛県</th>\n",
       "      <th>高知県</th>\n",
       "      <th>福岡県</th>\n",
       "      <th>佐賀県</th>\n",
       "      <th>長崎県</th>\n",
       "      <th>熊本県</th>\n",
       "      <th>大分県</th>\n",
       "      <th>宮崎県</th>\n",
       "      <th>鹿児島県</th>\n",
       "      <th>沖縄県</th>\n",
       "    </tr>\n",
       "  </thead>\n",
       "  <tbody>\n",
       "    <tr>\n",
       "      <th>_</th>\n",
       "      <td>0.0</td>\n",
       "      <td>0.000000</td>\n",
       "      <td>0.000000</td>\n",
       "      <td>0.0</td>\n",
       "      <td>0.00</td>\n",
       "      <td>0.00</td>\n",
       "      <td>0.0</td>\n",
       "      <td>0.0</td>\n",
       "      <td>0.0</td>\n",
       "      <td>0.0</td>\n",
       "      <td>...</td>\n",
       "      <td>0.0</td>\n",
       "      <td>0.0</td>\n",
       "      <td>0.00</td>\n",
       "      <td>0.0</td>\n",
       "      <td>0.0</td>\n",
       "      <td>0.0</td>\n",
       "      <td>0.0</td>\n",
       "      <td>0.0</td>\n",
       "      <td>0.0</td>\n",
       "      <td>0.000000</td>\n",
       "    </tr>\n",
       "    <tr>\n",
       "      <th>北海道</th>\n",
       "      <td>0.0</td>\n",
       "      <td>1018.733333</td>\n",
       "      <td>53.833333</td>\n",
       "      <td>0.0</td>\n",
       "      <td>167.75</td>\n",
       "      <td>58.15</td>\n",
       "      <td>0.0</td>\n",
       "      <td>52.9</td>\n",
       "      <td>0.0</td>\n",
       "      <td>0.0</td>\n",
       "      <td>...</td>\n",
       "      <td>0.0</td>\n",
       "      <td>0.0</td>\n",
       "      <td>297.75</td>\n",
       "      <td>0.0</td>\n",
       "      <td>0.0</td>\n",
       "      <td>0.0</td>\n",
       "      <td>0.0</td>\n",
       "      <td>0.0</td>\n",
       "      <td>0.0</td>\n",
       "      <td>138.550000</td>\n",
       "    </tr>\n",
       "    <tr>\n",
       "      <th>青森県</th>\n",
       "      <td>0.0</td>\n",
       "      <td>53.833333</td>\n",
       "      <td>0.000000</td>\n",
       "      <td>0.0</td>\n",
       "      <td>0.00</td>\n",
       "      <td>0.00</td>\n",
       "      <td>0.0</td>\n",
       "      <td>0.0</td>\n",
       "      <td>0.0</td>\n",
       "      <td>0.0</td>\n",
       "      <td>...</td>\n",
       "      <td>0.0</td>\n",
       "      <td>0.0</td>\n",
       "      <td>0.00</td>\n",
       "      <td>0.0</td>\n",
       "      <td>0.0</td>\n",
       "      <td>0.0</td>\n",
       "      <td>0.0</td>\n",
       "      <td>0.0</td>\n",
       "      <td>0.0</td>\n",
       "      <td>0.000000</td>\n",
       "    </tr>\n",
       "    <tr>\n",
       "      <th>岩手県</th>\n",
       "      <td>0.0</td>\n",
       "      <td>0.000000</td>\n",
       "      <td>0.000000</td>\n",
       "      <td>0.0</td>\n",
       "      <td>0.00</td>\n",
       "      <td>0.00</td>\n",
       "      <td>0.0</td>\n",
       "      <td>0.0</td>\n",
       "      <td>0.0</td>\n",
       "      <td>0.0</td>\n",
       "      <td>...</td>\n",
       "      <td>0.0</td>\n",
       "      <td>0.0</td>\n",
       "      <td>0.00</td>\n",
       "      <td>0.0</td>\n",
       "      <td>0.0</td>\n",
       "      <td>0.0</td>\n",
       "      <td>0.0</td>\n",
       "      <td>0.0</td>\n",
       "      <td>0.0</td>\n",
       "      <td>415.300000</td>\n",
       "    </tr>\n",
       "    <tr>\n",
       "      <th>宮城県</th>\n",
       "      <td>0.0</td>\n",
       "      <td>167.750000</td>\n",
       "      <td>0.000000</td>\n",
       "      <td>0.0</td>\n",
       "      <td>0.00</td>\n",
       "      <td>0.00</td>\n",
       "      <td>0.0</td>\n",
       "      <td>0.0</td>\n",
       "      <td>0.0</td>\n",
       "      <td>0.0</td>\n",
       "      <td>...</td>\n",
       "      <td>0.0</td>\n",
       "      <td>0.0</td>\n",
       "      <td>74.35</td>\n",
       "      <td>0.0</td>\n",
       "      <td>0.0</td>\n",
       "      <td>0.0</td>\n",
       "      <td>0.0</td>\n",
       "      <td>0.0</td>\n",
       "      <td>0.0</td>\n",
       "      <td>196.583333</td>\n",
       "    </tr>\n",
       "  </tbody>\n",
       "</table>\n",
       "<p>5 rows × 48 columns</p>\n",
       "</div>"
      ],
      "text/plain": [
       "       _          北海道        青森県  岩手県     宮城県    秋田県  山形県   福島県  茨城県  栃木県  \\\n",
       "_    0.0     0.000000   0.000000  0.0    0.00   0.00  0.0   0.0  0.0  0.0   \n",
       "北海道  0.0  1018.733333  53.833333  0.0  167.75  58.15  0.0  52.9  0.0  0.0   \n",
       "青森県  0.0    53.833333   0.000000  0.0    0.00   0.00  0.0   0.0  0.0  0.0   \n",
       "岩手県  0.0     0.000000   0.000000  0.0    0.00   0.00  0.0   0.0  0.0  0.0   \n",
       "宮城県  0.0   167.750000   0.000000  0.0    0.00   0.00  0.0   0.0  0.0  0.0   \n",
       "\n",
       "        ...      愛媛県  高知県     福岡県  佐賀県  長崎県  熊本県  大分県  宮崎県  鹿児島県         沖縄県  \n",
       "_       ...      0.0  0.0    0.00  0.0  0.0  0.0  0.0  0.0   0.0    0.000000  \n",
       "北海道     ...      0.0  0.0  297.75  0.0  0.0  0.0  0.0  0.0   0.0  138.550000  \n",
       "青森県     ...      0.0  0.0    0.00  0.0  0.0  0.0  0.0  0.0   0.0    0.000000  \n",
       "岩手県     ...      0.0  0.0    0.00  0.0  0.0  0.0  0.0  0.0   0.0  415.300000  \n",
       "宮城県     ...      0.0  0.0   74.35  0.0  0.0  0.0  0.0  0.0   0.0  196.583333  \n",
       "\n",
       "[5 rows x 48 columns]"
      ]
     },
     "execution_count": 204,
     "metadata": {},
     "output_type": "execute_result"
    }
   ],
   "source": [
    "for k,v in df.T.items():\n",
    "    fr = v[\"from\"]\n",
    "    to = v[\"to\"]\n",
    "    num = v[\"旅客数 (人)\"]\n",
    "    num = num/30/2\n",
    "    m.loc[fr,to] += num\n",
    "    m.loc[to,fr] += num\n",
    "m.head()"
   ]
  },
  {
   "cell_type": "code",
   "execution_count": 199,
   "metadata": {},
   "outputs": [],
   "source": [
    "N = pd.read_excel(pL.pref_pop)\n",
    "N = np.vstack(([[\"-\",1]],N.values))\n",
    "Nnum = np.array([float(v[1])*1000 for v in N ]).reshape(-1,1)\n",
    "p = m.values/Nnum"
   ]
  },
  {
   "cell_type": "code",
   "execution_count": 206,
   "metadata": {},
   "outputs": [],
   "source": [
    "np.save(pL.dataProp,p)"
   ]
  },
  {
   "cell_type": "code",
   "execution_count": 208,
   "metadata": {},
   "outputs": [],
   "source": [
    "p = np.load(pL.dataProp)"
   ]
  },
  {
   "cell_type": "code",
   "execution_count": null,
   "metadata": {},
   "outputs": [],
   "source": []
  },
  {
   "cell_type": "code",
   "execution_count": null,
   "metadata": {},
   "outputs": [],
   "source": []
  },
  {
   "cell_type": "code",
   "execution_count": null,
   "metadata": {},
   "outputs": [],
   "source": []
  }
 ],
 "metadata": {
  "kernelspec": {
   "display_name": "Python 3",
   "language": "python",
   "name": "python3"
  },
  "language_info": {
   "codemirror_mode": {
    "name": "ipython",
    "version": 3
   },
   "file_extension": ".py",
   "mimetype": "text/x-python",
   "name": "python",
   "nbconvert_exporter": "python",
   "pygments_lexer": "ipython3",
   "version": "3.7.2"
  },
  "varInspector": {
   "cols": {
    "lenName": 16,
    "lenType": 16,
    "lenVar": 40
   },
   "kernels_config": {
    "python": {
     "delete_cmd_postfix": "",
     "delete_cmd_prefix": "del ",
     "library": "var_list.py",
     "varRefreshCmd": "print(var_dic_list())"
    },
    "r": {
     "delete_cmd_postfix": ") ",
     "delete_cmd_prefix": "rm(",
     "library": "var_list.r",
     "varRefreshCmd": "cat(var_dic_list()) "
    }
   },
   "types_to_exclude": [
    "module",
    "function",
    "builtin_function_or_method",
    "instance",
    "_Feature"
   ],
   "window_display": false
  }
 },
 "nbformat": 4,
 "nbformat_minor": 2
}
